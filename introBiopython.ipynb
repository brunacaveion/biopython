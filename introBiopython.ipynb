{
 "cells": [
  {
   "cell_type": "markdown",
   "metadata": {},
   "source": [
    "# Introduction to Entrez library"
   ]
  },
  {
   "cell_type": "markdown",
   "metadata": {},
   "source": [
    "#### With Entrez library we can get data from NCBI (National Center for Biotechnology Information). Everything related to einfo we can do with Entrez"
   ]
  },
  {
   "cell_type": "code",
   "execution_count": 1,
   "metadata": {},
   "outputs": [],
   "source": [
    "from Bio import Entrez # everything related to einfo we do with Entrez"
   ]
  },
  {
   "cell_type": "code",
   "execution_count": 2,
   "metadata": {},
   "outputs": [
    {
     "name": "stdout",
     "output_type": "stream",
     "text": [
      "<class 'Bio.Entrez.Parser.DictionaryElement'>\n",
      "dict_keys(['DbList'])\n"
     ]
    }
   ],
   "source": [
    "Entrez.email='caveion.bruna@gmail.com' # nothing works without an email\n",
    "record = Entrez.read(Entrez.einfo())\n",
    "print(type(record))  # record is a dictionary that contains 'Dblist'\n",
    "print(record.keys()) # inside 'Dblist' we can see all the type of information we can get from NCBI"
   ]
  },
  {
   "cell_type": "code",
   "execution_count": 3,
   "metadata": {},
   "outputs": [
    {
     "data": {
      "text/plain": [
       "['pubmed', 'protein', 'nuccore', 'ipg', 'nucleotide', 'structure', 'genome', 'annotinfo', 'assembly', 'bioproject', 'biosample', 'blastdbinfo', 'books', 'cdd', 'clinvar', 'gap', 'gapplus', 'grasp', 'dbvar', 'gene', 'gds', 'geoprofiles', 'homologene', 'medgen', 'mesh', 'nlmcatalog', 'omim', 'orgtrack', 'pmc', 'popset', 'proteinclusters', 'pcassay', 'protfam', 'pccompound', 'pcsubstance', 'seqannot', 'snp', 'sra', 'taxonomy', 'biocollections', 'gtr']"
      ]
     },
     "execution_count": 3,
     "metadata": {},
     "output_type": "execute_result"
    }
   ],
   "source": [
    "record['DbList']"
   ]
  },
  {
   "cell_type": "code",
   "execution_count": 4,
   "metadata": {},
   "outputs": [
    {
     "name": "stdout",
     "output_type": "stream",
     "text": [
      "pubmed\n",
      "protein\n",
      "nuccore\n",
      "ipg\n",
      "nucleotide\n",
      "structure\n",
      "genome\n",
      "annotinfo\n",
      "assembly\n",
      "bioproject\n",
      "biosample\n",
      "blastdbinfo\n",
      "books\n",
      "cdd\n",
      "clinvar\n",
      "gap\n",
      "gapplus\n",
      "grasp\n",
      "dbvar\n",
      "gene\n",
      "gds\n",
      "geoprofiles\n",
      "homologene\n",
      "medgen\n",
      "mesh\n",
      "nlmcatalog\n",
      "omim\n",
      "orgtrack\n",
      "pmc\n",
      "popset\n",
      "proteinclusters\n",
      "pcassay\n",
      "protfam\n",
      "pccompound\n",
      "pcsubstance\n",
      "seqannot\n",
      "snp\n",
      "sra\n",
      "taxonomy\n",
      "biocollections\n",
      "gtr\n"
     ]
    }
   ],
   "source": [
    "print(\"\\n\".join(record['DbList'])) # print each element is a different line to see it better"
   ]
  },
  {
   "cell_type": "code",
   "execution_count": 5,
   "metadata": {},
   "outputs": [
    {
     "name": "stdout",
     "output_type": "stream",
     "text": [
      "<class 'Bio.Entrez.Parser.DictionaryElement'>\n"
     ]
    }
   ],
   "source": [
    "record = Entrez.read(Entrez.einfo(db='genome'))  # get only genome database from einfo\n",
    "print(type(record))"
   ]
  },
  {
   "cell_type": "code",
   "execution_count": 6,
   "metadata": {},
   "outputs": [
    {
     "data": {
      "text/plain": [
       "dict_keys(['DbInfo'])"
      ]
     },
     "execution_count": 6,
     "metadata": {},
     "output_type": "execute_result"
    }
   ],
   "source": [
    "record.keys() # even though this record has the same name as the previous one, this one contains a different key name"
   ]
  },
  {
   "cell_type": "code",
   "execution_count": 7,
   "metadata": {},
   "outputs": [
    {
     "data": {
      "text/plain": [
       "{'DbName': 'genome', 'MenuName': 'Genome', 'Description': 'Genomic sequences, contigs, and maps', 'DbBuild': 'Build220817-0555.1', 'Count': '91476', 'LastUpdate': '2022/08/17 07:08', 'FieldList': [{'Name': 'ALL', 'FullName': 'All Fields', 'Description': 'All terms from all searchable fields', 'TermCount': '16238721', 'IsDate': 'N', 'IsNumerical': 'N', 'SingleToken': 'N', 'Hierarchy': 'N', 'IsHidden': 'N'}, {'Name': 'UID', 'FullName': 'UID', 'Description': 'Unique number assigned to genome', 'TermCount': '0', 'IsDate': 'N', 'IsNumerical': 'Y', 'SingleToken': 'Y', 'Hierarchy': 'N', 'IsHidden': 'Y'}, {'Name': 'FILT', 'FullName': 'Filter', 'Description': 'Limits the records', 'TermCount': '17', 'IsDate': 'N', 'IsNumerical': 'N', 'SingleToken': 'Y', 'Hierarchy': 'N', 'IsHidden': 'N'}, {'Name': 'ORGN', 'FullName': 'Organism', 'Description': 'Organism', 'TermCount': '681473', 'IsDate': 'N', 'IsNumerical': 'N', 'SingleToken': 'Y', 'Hierarchy': 'Y', 'IsHidden': 'N'}, {'Name': 'PID', 'FullName': 'ProjectID', 'Description': 'Project ID', 'TermCount': '136795', 'IsDate': 'N', 'IsNumerical': 'Y', 'SingleToken': 'Y', 'Hierarchy': 'N', 'IsHidden': 'N'}, {'Name': 'PRJA', 'FullName': 'Project Accession', 'Description': 'Project Accession', 'TermCount': '136765', 'IsDate': 'N', 'IsNumerical': 'N', 'SingleToken': 'Y', 'Hierarchy': 'N', 'IsHidden': 'N'}, {'Name': 'PRJT', 'FullName': 'Project Type', 'Description': 'Project Type', 'TermCount': '21', 'IsDate': 'N', 'IsNumerical': 'N', 'SingleToken': 'Y', 'Hierarchy': 'N', 'IsHidden': 'N'}, {'Name': 'DFLN', 'FullName': 'Title', 'Description': 'Genome short description', 'TermCount': '67084', 'IsDate': 'N', 'IsNumerical': 'N', 'SingleToken': 'Y', 'Hierarchy': 'N', 'IsHidden': 'N'}, {'Name': 'DSCR', 'FullName': 'Genome description', 'Description': 'Genome full description', 'TermCount': '38083', 'IsDate': 'N', 'IsNumerical': 'N', 'SingleToken': 'Y', 'Hierarchy': 'N', 'IsHidden': 'N'}, {'Name': 'STAT', 'FullName': 'Status', 'Description': 'Bioproject status', 'TermCount': '4', 'IsDate': 'N', 'IsNumerical': 'N', 'SingleToken': 'Y', 'Hierarchy': 'N', 'IsHidden': 'N'}, {'Name': 'AID', 'FullName': 'AssemblyID', 'Description': 'Release ID of full assembly', 'TermCount': '510299', 'IsDate': 'N', 'IsNumerical': 'Y', 'SingleToken': 'Y', 'Hierarchy': 'N', 'IsHidden': 'N'}, {'Name': 'AACC', 'FullName': 'Assembly Accession', 'Description': 'Accession of full assembly', 'TermCount': '510288', 'IsDate': 'N', 'IsNumerical': 'N', 'SingleToken': 'Y', 'Hierarchy': 'N', 'IsHidden': 'N'}, {'Name': 'ANAM', 'FullName': 'Assembly Name', 'Description': 'Name of full assembly', 'TermCount': '1196402', 'IsDate': 'N', 'IsNumerical': 'N', 'SingleToken': 'Y', 'Hierarchy': 'N', 'IsHidden': 'N'}, {'Name': 'GI', 'FullName': 'Replicon GI', 'Description': 'Replicon GI', 'TermCount': '792197', 'IsDate': 'N', 'IsNumerical': 'Y', 'SingleToken': 'Y', 'Hierarchy': 'N', 'IsHidden': 'N'}, {'Name': 'ACCN', 'FullName': 'Replicon accession', 'Description': 'Replicon Accession', 'TermCount': '2041736', 'IsDate': 'N', 'IsNumerical': 'N', 'SingleToken': 'Y', 'Hierarchy': 'N', 'IsHidden': 'N'}, {'Name': 'RNAM', 'FullName': 'Replicon name', 'Description': 'Replicon Name', 'TermCount': '30006', 'IsDate': 'N', 'IsNumerical': 'N', 'SingleToken': 'Y', 'Hierarchy': 'N', 'IsHidden': 'N'}, {'Name': 'PACC', 'FullName': 'Protein Accession', 'Description': 'Protein Accession', 'TermCount': '0', 'IsDate': 'N', 'IsNumerical': 'N', 'SingleToken': 'Y', 'Hierarchy': 'N', 'IsHidden': 'N'}, {'Name': 'PROT', 'FullName': 'Protein Name', 'Description': 'Protein Name', 'TermCount': '0', 'IsDate': 'N', 'IsNumerical': 'N', 'SingleToken': 'Y', 'Hierarchy': 'N', 'IsHidden': 'N'}, {'Name': 'PGI', 'FullName': 'Protein GI', 'Description': 'protein GI', 'TermCount': '0', 'IsDate': 'N', 'IsNumerical': 'Y', 'SingleToken': 'Y', 'Hierarchy': 'N', 'IsHidden': 'N'}, {'Name': 'GNID', 'FullName': 'GeneID', 'Description': 'GeneID', 'TermCount': '0', 'IsDate': 'N', 'IsNumerical': 'Y', 'SingleToken': 'Y', 'Hierarchy': 'N', 'IsHidden': 'N'}, {'Name': 'GENE', 'FullName': 'Gene Name', 'Description': 'Gene Name', 'TermCount': '9610948', 'IsDate': 'N', 'IsNumerical': 'N', 'SingleToken': 'Y', 'Hierarchy': 'N', 'IsHidden': 'N'}, {'Name': 'LTAG', 'FullName': 'Locus Tag', 'Description': 'Locus Tag', 'TermCount': '0', 'IsDate': 'N', 'IsNumerical': 'N', 'SingleToken': 'Y', 'Hierarchy': 'N', 'IsHidden': 'N'}, {'Name': 'WGSP', 'FullName': 'WGS prefix', 'Description': 'WGS Prefix', 'TermCount': '656304', 'IsDate': 'N', 'IsNumerical': 'N', 'SingleToken': 'Y', 'Hierarchy': 'N', 'IsHidden': 'N'}, {'Name': 'PMID', 'FullName': 'PubMed ID', 'Description': 'Unique identifier from PubMed', 'TermCount': '25720', 'IsDate': 'N', 'IsNumerical': 'Y', 'SingleToken': 'Y', 'Hierarchy': 'N', 'IsHidden': 'N'}, {'Name': 'BIOP', 'FullName': 'biological properties', 'Description': 'Biological Properties', 'TermCount': '0', 'IsDate': 'N', 'IsNumerical': 'N', 'SingleToken': 'Y', 'Hierarchy': 'N', 'IsHidden': 'N'}, {'Name': 'PCID', 'FullName': 'ProtClust ID', 'Description': 'Protein Clusters ID', 'TermCount': '53', 'IsDate': 'N', 'IsNumerical': 'Y', 'SingleToken': 'Y', 'Hierarchy': 'N', 'IsHidden': 'N'}, {'Name': 'PROP', 'FullName': 'Properties', 'Description': 'Project/Organism Properties', 'TermCount': '8', 'IsDate': 'N', 'IsNumerical': 'N', 'SingleToken': 'Y', 'Hierarchy': 'N', 'IsHidden': 'N'}, {'Name': 'CDT', 'FullName': 'Create Date', 'Description': 'Create Date', 'TermCount': '7185', 'IsDate': 'Y', 'IsNumerical': 'N', 'SingleToken': 'Y', 'Hierarchy': 'N', 'IsHidden': 'N'}, {'Name': 'STRN', 'FullName': 'Strain', 'Description': 'Organism Strain', 'TermCount': '422848', 'IsDate': 'N', 'IsNumerical': 'N', 'SingleToken': 'Y', 'Hierarchy': 'N', 'IsHidden': 'N'}, {'Name': 'HOST', 'FullName': 'Host', 'Description': 'Organism Host', 'TermCount': '33', 'IsDate': 'N', 'IsNumerical': 'N', 'SingleToken': 'Y', 'Hierarchy': 'N', 'IsHidden': 'N'}], 'LinkList': [{'Name': 'genome_assembly', 'Menu': 'Assembly', 'Description': 'Related Assembly records', 'DbTo': 'assembly'}, {'Name': 'genome_bioproject', 'Menu': 'BioProject Links', 'Description': 'Related BioProjects', 'DbTo': 'bioproject'}, {'Name': 'genome_gene', 'Menu': 'Gene Links', 'Description': 'Related Gene', 'DbTo': 'gene'}, {'Name': 'genome_nuccore', 'Menu': 'Components', 'Description': 'Constituent nucleotide sequence', 'DbTo': 'nuccore'}, {'Name': 'genome_nuccore_samespecies', 'Menu': 'Other genomes for species', 'Description': 'Other (nearly) complete genomes or particular genomic segments for the species from DDBJ/EMBL/GenBank', 'DbTo': 'nuccore'}, {'Name': 'genome_protein', 'Menu': 'Protein Links', 'Description': 'Constituent protein sequence', 'DbTo': 'protein'}, {'Name': 'genome_proteinclusters', 'Menu': 'Protein Cluster Links', 'Description': 'Related Protein Clusters', 'DbTo': 'proteinclusters'}, {'Name': 'genome_pubmed', 'Menu': 'PubMed Links', 'Description': 'PubMed articles cited by genome record', 'DbTo': 'pubmed'}, {'Name': 'genome_taxonomy', 'Menu': 'Taxonomy Links', 'Description': 'Taxonomy sequences associated with genome record', 'DbTo': 'taxonomy'}]}"
      ]
     },
     "execution_count": 7,
     "metadata": {},
     "output_type": "execute_result"
    }
   ],
   "source": [
    "record['DbInfo']"
   ]
  },
  {
   "cell_type": "code",
   "execution_count": 8,
   "metadata": {},
   "outputs": [
    {
     "name": "stdout",
     "output_type": "stream",
     "text": [
      "DbName : genome\n",
      "MenuName : Genome\n",
      "Description : Genomic sequences, contigs, and maps\n",
      "DbBuild : Build220817-0555.1\n",
      "Count : 91476\n",
      "LastUpdate : 2022/08/17 07:08\n",
      "FieldList : [{'Name': 'ALL', 'FullName': 'All Fields', 'Description': 'All terms from all searchable fields', 'TermCount': '16238721', 'IsDate': 'N', 'IsNumerical': 'N', 'SingleToken': 'N', 'Hierarchy': 'N', 'IsHidden': 'N'}, {'Name': 'UID', 'FullName': 'UID', 'Description': 'Unique number assigned to genome', 'TermCount': '0', 'IsDate': 'N', 'IsNumerical': 'Y', 'SingleToken': 'Y', 'Hierarchy': 'N', 'IsHidden': 'Y'}, {'Name': 'FILT', 'FullName': 'Filter', 'Description': 'Limits the records', 'TermCount': '17', 'IsDate': 'N', 'IsNumerical': 'N', 'SingleToken': 'Y', 'Hierarchy': 'N', 'IsHidden': 'N'}, {'Name': 'ORGN', 'FullName': 'Organism', 'Description': 'Organism', 'TermCount': '681473', 'IsDate': 'N', 'IsNumerical': 'N', 'SingleToken': 'Y', 'Hierarchy': 'Y', 'IsHidden': 'N'}, {'Name': 'PID', 'FullName': 'ProjectID', 'Description': 'Project ID', 'TermCount': '136795', 'IsDate': 'N', 'IsNumerical': 'Y', 'SingleToken': 'Y', 'Hierarchy': 'N', 'IsHidden': 'N'}, {'Name': 'PRJA', 'FullName': 'Project Accession', 'Description': 'Project Accession', 'TermCount': '136765', 'IsDate': 'N', 'IsNumerical': 'N', 'SingleToken': 'Y', 'Hierarchy': 'N', 'IsHidden': 'N'}, {'Name': 'PRJT', 'FullName': 'Project Type', 'Description': 'Project Type', 'TermCount': '21', 'IsDate': 'N', 'IsNumerical': 'N', 'SingleToken': 'Y', 'Hierarchy': 'N', 'IsHidden': 'N'}, {'Name': 'DFLN', 'FullName': 'Title', 'Description': 'Genome short description', 'TermCount': '67084', 'IsDate': 'N', 'IsNumerical': 'N', 'SingleToken': 'Y', 'Hierarchy': 'N', 'IsHidden': 'N'}, {'Name': 'DSCR', 'FullName': 'Genome description', 'Description': 'Genome full description', 'TermCount': '38083', 'IsDate': 'N', 'IsNumerical': 'N', 'SingleToken': 'Y', 'Hierarchy': 'N', 'IsHidden': 'N'}, {'Name': 'STAT', 'FullName': 'Status', 'Description': 'Bioproject status', 'TermCount': '4', 'IsDate': 'N', 'IsNumerical': 'N', 'SingleToken': 'Y', 'Hierarchy': 'N', 'IsHidden': 'N'}, {'Name': 'AID', 'FullName': 'AssemblyID', 'Description': 'Release ID of full assembly', 'TermCount': '510299', 'IsDate': 'N', 'IsNumerical': 'Y', 'SingleToken': 'Y', 'Hierarchy': 'N', 'IsHidden': 'N'}, {'Name': 'AACC', 'FullName': 'Assembly Accession', 'Description': 'Accession of full assembly', 'TermCount': '510288', 'IsDate': 'N', 'IsNumerical': 'N', 'SingleToken': 'Y', 'Hierarchy': 'N', 'IsHidden': 'N'}, {'Name': 'ANAM', 'FullName': 'Assembly Name', 'Description': 'Name of full assembly', 'TermCount': '1196402', 'IsDate': 'N', 'IsNumerical': 'N', 'SingleToken': 'Y', 'Hierarchy': 'N', 'IsHidden': 'N'}, {'Name': 'GI', 'FullName': 'Replicon GI', 'Description': 'Replicon GI', 'TermCount': '792197', 'IsDate': 'N', 'IsNumerical': 'Y', 'SingleToken': 'Y', 'Hierarchy': 'N', 'IsHidden': 'N'}, {'Name': 'ACCN', 'FullName': 'Replicon accession', 'Description': 'Replicon Accession', 'TermCount': '2041736', 'IsDate': 'N', 'IsNumerical': 'N', 'SingleToken': 'Y', 'Hierarchy': 'N', 'IsHidden': 'N'}, {'Name': 'RNAM', 'FullName': 'Replicon name', 'Description': 'Replicon Name', 'TermCount': '30006', 'IsDate': 'N', 'IsNumerical': 'N', 'SingleToken': 'Y', 'Hierarchy': 'N', 'IsHidden': 'N'}, {'Name': 'PACC', 'FullName': 'Protein Accession', 'Description': 'Protein Accession', 'TermCount': '0', 'IsDate': 'N', 'IsNumerical': 'N', 'SingleToken': 'Y', 'Hierarchy': 'N', 'IsHidden': 'N'}, {'Name': 'PROT', 'FullName': 'Protein Name', 'Description': 'Protein Name', 'TermCount': '0', 'IsDate': 'N', 'IsNumerical': 'N', 'SingleToken': 'Y', 'Hierarchy': 'N', 'IsHidden': 'N'}, {'Name': 'PGI', 'FullName': 'Protein GI', 'Description': 'protein GI', 'TermCount': '0', 'IsDate': 'N', 'IsNumerical': 'Y', 'SingleToken': 'Y', 'Hierarchy': 'N', 'IsHidden': 'N'}, {'Name': 'GNID', 'FullName': 'GeneID', 'Description': 'GeneID', 'TermCount': '0', 'IsDate': 'N', 'IsNumerical': 'Y', 'SingleToken': 'Y', 'Hierarchy': 'N', 'IsHidden': 'N'}, {'Name': 'GENE', 'FullName': 'Gene Name', 'Description': 'Gene Name', 'TermCount': '9610948', 'IsDate': 'N', 'IsNumerical': 'N', 'SingleToken': 'Y', 'Hierarchy': 'N', 'IsHidden': 'N'}, {'Name': 'LTAG', 'FullName': 'Locus Tag', 'Description': 'Locus Tag', 'TermCount': '0', 'IsDate': 'N', 'IsNumerical': 'N', 'SingleToken': 'Y', 'Hierarchy': 'N', 'IsHidden': 'N'}, {'Name': 'WGSP', 'FullName': 'WGS prefix', 'Description': 'WGS Prefix', 'TermCount': '656304', 'IsDate': 'N', 'IsNumerical': 'N', 'SingleToken': 'Y', 'Hierarchy': 'N', 'IsHidden': 'N'}, {'Name': 'PMID', 'FullName': 'PubMed ID', 'Description': 'Unique identifier from PubMed', 'TermCount': '25720', 'IsDate': 'N', 'IsNumerical': 'Y', 'SingleToken': 'Y', 'Hierarchy': 'N', 'IsHidden': 'N'}, {'Name': 'BIOP', 'FullName': 'biological properties', 'Description': 'Biological Properties', 'TermCount': '0', 'IsDate': 'N', 'IsNumerical': 'N', 'SingleToken': 'Y', 'Hierarchy': 'N', 'IsHidden': 'N'}, {'Name': 'PCID', 'FullName': 'ProtClust ID', 'Description': 'Protein Clusters ID', 'TermCount': '53', 'IsDate': 'N', 'IsNumerical': 'Y', 'SingleToken': 'Y', 'Hierarchy': 'N', 'IsHidden': 'N'}, {'Name': 'PROP', 'FullName': 'Properties', 'Description': 'Project/Organism Properties', 'TermCount': '8', 'IsDate': 'N', 'IsNumerical': 'N', 'SingleToken': 'Y', 'Hierarchy': 'N', 'IsHidden': 'N'}, {'Name': 'CDT', 'FullName': 'Create Date', 'Description': 'Create Date', 'TermCount': '7185', 'IsDate': 'Y', 'IsNumerical': 'N', 'SingleToken': 'Y', 'Hierarchy': 'N', 'IsHidden': 'N'}, {'Name': 'STRN', 'FullName': 'Strain', 'Description': 'Organism Strain', 'TermCount': '422848', 'IsDate': 'N', 'IsNumerical': 'N', 'SingleToken': 'Y', 'Hierarchy': 'N', 'IsHidden': 'N'}, {'Name': 'HOST', 'FullName': 'Host', 'Description': 'Organism Host', 'TermCount': '33', 'IsDate': 'N', 'IsNumerical': 'N', 'SingleToken': 'Y', 'Hierarchy': 'N', 'IsHidden': 'N'}]\n",
      "LinkList : [{'Name': 'genome_assembly', 'Menu': 'Assembly', 'Description': 'Related Assembly records', 'DbTo': 'assembly'}, {'Name': 'genome_bioproject', 'Menu': 'BioProject Links', 'Description': 'Related BioProjects', 'DbTo': 'bioproject'}, {'Name': 'genome_gene', 'Menu': 'Gene Links', 'Description': 'Related Gene', 'DbTo': 'gene'}, {'Name': 'genome_nuccore', 'Menu': 'Components', 'Description': 'Constituent nucleotide sequence', 'DbTo': 'nuccore'}, {'Name': 'genome_nuccore_samespecies', 'Menu': 'Other genomes for species', 'Description': 'Other (nearly) complete genomes or particular genomic segments for the species from DDBJ/EMBL/GenBank', 'DbTo': 'nuccore'}, {'Name': 'genome_protein', 'Menu': 'Protein Links', 'Description': 'Constituent protein sequence', 'DbTo': 'protein'}, {'Name': 'genome_proteinclusters', 'Menu': 'Protein Cluster Links', 'Description': 'Related Protein Clusters', 'DbTo': 'proteinclusters'}, {'Name': 'genome_pubmed', 'Menu': 'PubMed Links', 'Description': 'PubMed articles cited by genome record', 'DbTo': 'pubmed'}, {'Name': 'genome_taxonomy', 'Menu': 'Taxonomy Links', 'Description': 'Taxonomy sequences associated with genome record', 'DbTo': 'taxonomy'}]\n"
     ]
    }
   ],
   "source": [
    "for key in record['DbInfo'].keys():          # reorganize the data from record['DbInfo'] to see it better\n",
    "    print(key, ':',record['DbInfo'][key])"
   ]
  },
  {
   "cell_type": "markdown",
   "metadata": {},
   "source": [
    "#### espell function from Entrez exemples"
   ]
  },
  {
   "cell_type": "code",
   "execution_count": 9,
   "metadata": {},
   "outputs": [
    {
     "name": "stdout",
     "output_type": "stream",
     "text": [
      "<class 'Bio.Entrez.Parser.DictionaryElement'>\n",
      "dict_keys(['Database', 'Query', 'CorrectedQuery', 'SpelledQuery'])\n",
      "Database : pmc\n",
      "Query : biobython\n",
      "CorrectedQuery : biopython\n",
      "SpelledQuery : ['', 'biopython']\n"
     ]
    }
   ],
   "source": [
    "# espell gives us spelling suggestions, see the I wrote biobython instead of biopython, and spell returned a correction \n",
    "record = Entrez.read(Entrez.espell(db='pmc', term='biobython')) \n",
    "# pmc is an open source database scientific research\n",
    "# inside pmc we will look for papers containing the 'term' 'biobython' \n",
    "print(type(record))\n",
    "print(record.keys())\n",
    "for key in record.keys():\n",
    "    print(key, ':', record[key])"
   ]
  },
  {
   "cell_type": "code",
   "execution_count": 10,
   "metadata": {},
   "outputs": [
    {
     "name": "stdout",
     "output_type": "stream",
     "text": [
      "Index: 0\n",
      "Original  Sci. Name: Bos gaurus\n",
      "Corrected Sci. Name: Bos taurus\n",
      "-----------------\n",
      "Index: 1\n",
      "Original  Sci. Name: Antelope cervicapra\n",
      "Corrected Sci. Name: Antilope cervicapra\n",
      "-----------------\n",
      "Index: 2\n",
      "Original  Sci. Name: Gazella bennettii\n",
      "Corrected Sci. Name: Gazella bennettii\n",
      "-----------------\n",
      "Index: 3\n",
      "Original  Sci. Name: Boselaphus tragocamelus\n",
      "Corrected Sci. Name: Boselaphus tragocamelus\n",
      "-----------------\n",
      "Index: 4\n",
      "Original  Sci. Name: Canis lupus\n",
      "Corrected Sci. Name: Canis lupus\n",
      "-----------------\n",
      "Index: 5\n",
      "Original  Sci. Name: Panthera leo\n",
      "Corrected Sci. Name: Panthera leo\n",
      "-----------------\n",
      "Index: 6\n",
      "Original  Sci. Name: Elephas maximus\n",
      "Corrected Sci. Name: Elephas maximus\n",
      "-----------------\n",
      "Index: 7\n",
      "Original  Sci. Name: Equus africanus\n",
      "Corrected Sci. Name: Equus africanus\n",
      "-----------------\n",
      "Index: 8\n",
      "Original  Sci. Name: Panthera pardus\n",
      "Corrected Sci. Name: Panthera pardus\n",
      "-----------------\n",
      "Index: 9\n",
      "Original  Sci. Name: Cervus canadensis\n",
      "Corrected Sci. Name: Cervus canadensis\n",
      "-----------------\n",
      "Index: 10\n",
      "Original  Sci. Name: Pavo cristatus\n",
      "Corrected Sci. Name: Pavo cristatus\n",
      "-----------------\n",
      "Index: 11\n",
      "Original  Sci. Name: Grus leucogeranus\n",
      "Corrected Sci. Name: Grus leucogeranus\n",
      "-----------------\n",
      "Index: 12\n",
      "Original  Sci. Name: Vulpes vulpes\n",
      "Corrected Sci. Name: Vulpes vulpes\n",
      "-----------------\n",
      "Index: 13\n",
      "Original  Sci. Name: Rhinoceros unicornis\n",
      "Corrected Sci. Name: Rhinoceros unicornis\n",
      "-----------------\n",
      "Index: 14\n",
      "Original  Sci. Name: Panthera Tigris\n",
      "Corrected Sci. Name: Panthera tigris\n",
      "-----------------\n",
      "Index: 15\n",
      "Original  Sci. Name: Crocodylus palustris\n",
      "Corrected Sci. Name: Crocodylus palustris\n",
      "-----------------\n",
      "Index: 16\n",
      "Original  Sci. Name: Gavialis gangeticus\n",
      "Corrected Sci. Name: Gavialis gangeticus\n",
      "-----------------\n",
      "Index: 17\n",
      "Original  Sci. Name: Equus caballus\n",
      "Corrected Sci. Name: Equus caballus\n",
      "-----------------\n",
      "Index: 18\n",
      "Original  Sci. Name: Equus quagga\n",
      "Corrected Sci. Name: Equus quagga\n",
      "-----------------\n",
      "Index: 19\n",
      "Original  Sci. Name: Babalus bubalis\n",
      "Corrected Sci. Name: Bubalus bubalis\n",
      "-----------------\n",
      "Index: 20\n",
      "Original  Sci. Name: Sus scrofa\n",
      "Corrected Sci. Name: Sus scrofa\n",
      "-----------------\n",
      "Index: 21\n",
      "Original  Sci. Name: Camelus dromedaries\n",
      "Corrected Sci. Name: Camelus dromedarius\n",
      "-----------------\n",
      "Index: 22\n",
      "Original  Sci. Name: Giraffa camelopardalis\n",
      "Corrected Sci. Name: Giraffa camelopardalis\n",
      "-----------------\n",
      "Index: 23\n",
      "Original  Sci. Name: Hemidactylus flaviviridis\n",
      "Corrected Sci. Name: Hemidactylus flaviviridis\n",
      "-----------------\n",
      "Index: 24\n",
      "Original  Sci. Name: Hippopotamus amphibius\n",
      "Corrected Sci. Name: Hippopotamus amphibius\n",
      "-----------------\n",
      "Index: 25\n",
      "Original  Sci. Name: Macaca mulatta\n",
      "Corrected Sci. Name: Macaca mulatta\n",
      "-----------------\n",
      "Index: 26\n",
      "Original  Sci. Name: Canis lupus\n",
      "Corrected Sci. Name: Canis lupus\n",
      "-----------------\n",
      "Index: 27\n",
      "Original  Sci. Name: Felis domesticus\n",
      "Corrected Sci. Name: Felis domesticus\n",
      "-----------------\n",
      "Index: 28\n",
      "Original  Sci. Name: Acinonyx jubatus\n",
      "Corrected Sci. Name: Acinonyx jubatus\n",
      "-----------------\n",
      "Index: 29\n",
      "Original  Sci. Name: Rattus rattus\n",
      "Corrected Sci. Name: Rattus rattus\n",
      "-----------------\n",
      "Index: 30\n",
      "Original  Sci. Name: Mus musculus\n",
      "Corrected Sci. Name: Mus musculus\n",
      "-----------------\n",
      "Index: 31\n",
      "Original  Sci. Name: Oryctolagus cuniculus\n",
      "Corrected Sci. Name: Oryctolagus cuniculus\n",
      "-----------------\n",
      "Index: 32\n",
      "Original  Sci. Name: Bubo virginianus\n",
      "Corrected Sci. Name: Bubo virginianus\n",
      "-----------------\n",
      "Index: 33\n",
      "Original  Sci. Name: Passer domesticus\n",
      "Corrected Sci. Name: Passer domesticus\n",
      "-----------------\n",
      "Index: 34\n",
      "Original  Sci. Name: Corvus splendens\n",
      "Corrected Sci. Name: Corvus splendens\n",
      "-----------------\n",
      "Index: 35\n",
      "Original  Sci. Name: Acridotheres tristis\n",
      "Corrected Sci. Name: Acridotheres tristis\n",
      "-----------------\n",
      "Index: 36\n",
      "Original  Sci. Name: Psittacula eupatria\n",
      "Corrected Sci. Name: Psittacula eupatria\n",
      "-----------------\n",
      "Index: 37\n",
      "Original  Sci. Name: Molpastes cafer\n",
      "Corrected Sci. Name: Molasses caffer\n",
      "-----------------\n",
      "Index: 38\n",
      "Original  Sci. Name: Eudynamis scolopaccus\n",
      "Corrected Sci. Name: Eudynamys scolopaceus\n",
      "-----------------\n",
      "Index: 39\n",
      "Original  Sci. Name: Columba livia\n",
      "Corrected Sci. Name: Columba livia\n",
      "-----------------\n",
      "Index: 40\n",
      "Original  Sci. Name: Naja naja\n",
      "Corrected Sci. Name: Naja naja\n",
      "-----------------\n",
      "Index: 41\n",
      "Original  Sci. Name: Ophiophagus hannah\n",
      "Corrected Sci. Name: Ophiophagus hannah\n",
      "-----------------\n",
      "Index: 42\n",
      "Original  Sci. Name: Hydrophiinae\n",
      "Corrected Sci. Name: Hydrophiinae\n",
      "-----------------\n",
      "Index: 43\n",
      "Original  Sci. Name: Python molurus\n",
      "Corrected Sci. Name: Python molurus\n",
      "-----------------\n",
      "Index: 44\n",
      "Original  Sci. Name: Ptyas mucosa\n",
      "Corrected Sci. Name: Ptyas mucosa\n",
      "-----------------\n"
     ]
    }
   ],
   "source": [
    "# espell gives us spelling suggestions, here is an exemple of how I wrote and how it is in the database\n",
    "sciNames = ['Bos gaurus', 'Antelope cervicapra', 'Gazella bennettii', 'Boselaphus tragocamelus', 'Canis lupus', 'Panthera leo', 'Elephas maximus', 'Equus africanus', 'Panthera pardus', 'Cervus canadensis', 'Pavo cristatus', 'Grus leucogeranus', 'Vulpes vulpes', 'Rhinoceros unicornis', 'Panthera Tigris', 'Crocodylus palustris', 'Gavialis gangeticus', 'Equus caballus', 'Equus quagga', 'Babalus bubalis', 'Sus scrofa', 'Camelus dromedaries', 'Giraffa camelopardalis ', 'Hemidactylus flaviviridis', 'Hippopotamus amphibius', 'Macaca mulatta', 'Canis lupus', 'Felis domesticus', 'Acinonyx jubatus', 'Rattus rattus', 'Mus musculus', 'Oryctolagus cuniculus', 'Bubo virginianus', 'Passer domesticus', 'Corvus splendens', 'Acridotheres tristis', 'Psittacula eupatria', 'Molpastes cafer', 'Eudynamis scolopaccus', 'Columba livia', 'Naja naja', 'Ophiophagus hannah', 'Hydrophiinae ', 'Python molurus', 'Ptyas mucosa']\n",
    "for SNIND, SN in enumerate(sciNames):\n",
    "    record = Entrez.read(Entrez.espell(db='taxonomy', term=SN))\n",
    "    print('Index:', SNIND)\n",
    "    print('Original  Sci. Name:', record['Query'])\n",
    "    print('Corrected Sci. Name:', record['CorrectedQuery'].capitalize())\n",
    "    print('-----------------')"
   ]
  },
  {
   "cell_type": "code",
   "execution_count": 11,
   "metadata": {},
   "outputs": [
    {
     "name": "stdout",
     "output_type": "stream",
     "text": [
      "Index: 0\n",
      "Original  Sci. Name: Bos gaurus\n",
      "Corrected Sci. Name: Bos taurus\n",
      "-----------------\n",
      "Index: 1\n",
      "Original  Sci. Name: Antelope cervicapra\n",
      "Corrected Sci. Name: Antilope cervicapra\n",
      "-----------------\n",
      "Index: 14\n",
      "Original  Sci. Name: Panthera Tigris\n",
      "Corrected Sci. Name: Panthera tigris\n",
      "-----------------\n",
      "Index: 19\n",
      "Original  Sci. Name: Babalus bubalis\n",
      "Corrected Sci. Name: Bubalus bubalis\n",
      "-----------------\n",
      "Index: 21\n",
      "Original  Sci. Name: Camelus dromedaries\n",
      "Corrected Sci. Name: Camelus dromedarius\n",
      "-----------------\n",
      "Index: 37\n",
      "Original  Sci. Name: Molpastes cafer\n",
      "Corrected Sci. Name: Molasses caffer\n",
      "-----------------\n",
      "Index: 38\n",
      "Original  Sci. Name: Eudynamis scolopaccus\n",
      "Corrected Sci. Name: Eudynamys scolopaceus\n",
      "-----------------\n"
     ]
    }
   ],
   "source": [
    "# This code returns only the misspelled words in sciNames\n",
    "sciNames = ['Bos gaurus', 'Antelope cervicapra', 'Gazella bennettii', 'Boselaphus tragocamelus', 'Canis lupus', 'Panthera leo', 'Elephas maximus', 'Equus africanus', 'Panthera pardus', 'Cervus canadensis', 'Pavo cristatus', 'Grus leucogeranus', 'Vulpes vulpes', 'Rhinoceros unicornis', 'Panthera Tigris', 'Crocodylus palustris', 'Gavialis gangeticus', 'Equus caballus', 'Equus quagga', 'Babalus bubalis', 'Sus scrofa', 'Camelus dromedaries', 'Giraffa camelopardalis ', 'Hemidactylus flaviviridis', 'Hippopotamus amphibius', 'Macaca mulatta', 'Canis lupus', 'Felis domesticus', 'Acinonyx jubatus', 'Rattus rattus', 'Mus musculus', 'Oryctolagus cuniculus', 'Bubo virginianus', 'Passer domesticus', 'Corvus splendens', 'Acridotheres tristis', 'Psittacula eupatria', 'Molpastes cafer', 'Eudynamis scolopaccus', 'Columba livia', 'Naja naja', 'Ophiophagus hannah', 'Hydrophiinae ', 'Python molurus', 'Ptyas mucosa']\n",
    "for SNIND, SN in enumerate(sciNames):\n",
    "    record = Entrez.read(Entrez.espell(db='taxonomy', term=SN))\n",
    "    if record['Query'] != record['CorrectedQuery'].capitalize():\n",
    "        print('Index:', SNIND)\n",
    "        print('Original  Sci. Name:', record['Query'])\n",
    "        print('Corrected Sci. Name:', record['CorrectedQuery'].capitalize())\n",
    "        print('-----------------')"
   ]
  },
  {
   "cell_type": "markdown",
   "metadata": {},
   "source": [
    "#### esearch function from Entrez"
   ]
  },
  {
   "cell_type": "code",
   "execution_count": 13,
   "metadata": {},
   "outputs": [
    {
     "name": "stdout",
     "output_type": "stream",
     "text": [
      "1 : homo sapiens AND Lung Cancer AND Marker\n",
      "Count: 298817\n",
      "Factor XII in Inflammation and Wound Healing\n",
      "Supramolecular organizing centers at the interface of inflammation and neurodegeneration\n",
      "Vitamin B6 Metabolic Pathway is Involved in the Pathogenesis of Liver Diseases via Multi-Omics Analysis\n",
      "Toxicity and toxicokinetics of the ethanol extract of Zuojin formula\n",
      "A TLR4-independent critical role for CD14 in intracellular LPS sensing\n",
      "-------------------------\n",
      "2 : Human AND homo sapiens AND Lung Cancer AND Marker\n",
      "Count: 298794\n",
      "Factor XII in Inflammation and Wound Healing\n",
      "Supramolecular organizing centers at the interface of inflammation and neurodegeneration\n",
      "Vitamin B6 Metabolic Pathway is Involved in the Pathogenesis of Liver Diseases via Multi-Omics Analysis\n",
      "Toxicity and toxicokinetics of the ethanol extract of Zuojin formula\n",
      "A TLR4-independent critical role for CD14 in intracellular LPS sensing\n",
      "-------------------------\n",
      "3 : (Human[Title] OR homo sapiens[Title]) AND Lung Cancer AND Marker\n",
      "Count: 26365\n",
      "Antiproliferative and cytotoxic effects of sesquiterpene lactones isolated from Ambrosia artemisiifolia on human adenocarcinoma and normal cell lines\n",
      "Intraneuronal sortilin aggregation relative to granulovacuolar degeneration, tau pathogenesis and sorfra plaque formation in human hippocampal formation\n",
      "NORAD Promotes the Viability, Migration, and Phenotypic Switch of Human Vascular Smooth Muscle Cells during Aortic Dissection via LIN28B-Mediated TGF-β Promotion and Subsequent Enhanced Glycolysis\n",
      "Molecular profiling of human non-small cell lung cancer by single-cell RNA-seq\n",
      "Development of a human antibody that exhibits antagonistic activity toward CC chemokine receptor 7\n",
      "-------------------------\n",
      "4 : (Human[Title] OR homo sapiens[Title]) OR (Lung Cancer[Title] AND Marker[Title])\n",
      "Count: 269248\n",
      "Effect of Aronia Extract on Collagen Synthesis in Human Skin Cell and Dermal Equivalent\n",
      "Effect and Related Mechanism of Platelet-Rich Plasma on the Osteogenic Differentiation of Human Adipose-Derived Stem Cells\n",
      "Effect of Human-Oriented Fine Nursing on Psychological Emotion, Life Quality, and Nursing Satisfaction of Patients Undergoing Laparoscopic Radical Nephrectomy\n",
      "Classification of Developmental Toxicants in a Human iPSC Transcriptomics-Based Test\n",
      "Three-Dimensional Poly-(ε-Caprolactone) Nanofibrous Scaffolds Promote the Maturation of Human Pluripotent Stem Cells-Induced Cardiomyocytes\n",
      "-------------------------\n",
      "5 : (Human[Title] OR homo sapiens[Title] OR Lung Cancer[Title] OR Marker[Title]\n",
      "Count: 319748\n",
      "Effect of Nursing Model Based on Rosenthal Effect on Self-Efficacy and Cognition of Life Meaning in Patients with Non-Small-Cell Lung Cancer\n",
      "Delicaflavone Represses Lung Cancer Growth by Activating Antitumor Immune Response through N6-Methyladenosine Transferases and Oxidative Stress\n",
      "Effect of Aronia Extract on Collagen Synthesis in Human Skin Cell and Dermal Equivalent\n",
      "Effect and Related Mechanism of Platelet-Rich Plasma on the Osteogenic Differentiation of Human Adipose-Derived Stem Cells\n",
      "Effect of Human-Oriented Fine Nursing on Psychological Emotion, Life Quality, and Nursing Satisfaction of Patients Undergoing Laparoscopic Radical Nephrectomy\n",
      "-------------------------\n",
      "6 : (Human[Title] OR homo sapiens[Title]) AND (Lung Cancer[Title] AND Marker[Title])\n",
      "Count: 4\n",
      "Comprehensive analysis of marker gene detection and computed tomography for the diagnosis of human lung cancer\n",
      "CPA4 is a Novel Diagnostic and Prognostic Marker for Human Non-Small-Cell Lung Cancer\n",
      "Minichromosome Maintenance Protein 7 is a potential therapeutic target in human cancer and a novel prognostic marker of non-small cell lung cancer\n",
      "The 7BS protein as marker for neuroendocrine differentiation in human lung cancer\n",
      "-------------------------\n"
     ]
    }
   ],
   "source": [
    "## get papers with especific terms \n",
    "terms = ['homo sapiens AND Lung Cancer AND Marker',\n",
    "         'Human AND homo sapiens AND Lung Cancer AND Marker',\n",
    "         '(Human[Title] OR homo sapiens[Title]) AND Lung Cancer AND Marker',\n",
    "         '(Human[Title] OR homo sapiens[Title]) OR (Lung Cancer[Title] AND Marker[Title])',\n",
    "         '(Human[Title] OR homo sapiens[Title] OR Lung Cancer[Title] OR Marker[Title]',\n",
    "         '(Human[Title] OR homo sapiens[Title]) AND (Lung Cancer[Title] AND Marker[Title])']\n",
    "for termIndex, term in enumerate(terms):\n",
    "    record = Entrez.read(Entrez.esearch(db='pmc',\n",
    "                                        term=term,\n",
    "                                        retmax=5))\n",
    "    print(termIndex+1, \":\", term)\n",
    "    print('Count:', record['Count'])\n",
    "    IdList = record['IdList']\n",
    "    for ID in IdList:\n",
    "        summary = Entrez.read(Entrez.esummary(db='pmc', id=ID))\n",
    "        for doc in summary:\n",
    "            print(doc['Title'])\n",
    "    print('-------------------------')"
   ]
  },
  {
   "cell_type": "markdown",
   "metadata": {},
   "source": [
    "#### Getting RNA data from NCBI and Genbank"
   ]
  },
  {
   "cell_type": "code",
   "execution_count": 15,
   "metadata": {},
   "outputs": [],
   "source": [
    "# Inside the nucleotide database, we will download .fasta data\n",
    "record = Entrez.read(Entrez.esearch(db='nucleotide', \n",
    "                                    term='HBB[Gene Name] AND RefSeq[key]', # eye color gene\n",
    "                                    retmax=2000,\n",
    "                                    idtype='acc')) \n",
    "\n",
    "fetchList=[]\n",
    "counter = 0\n",
    "for ID in record['IdList']:\n",
    "    if 'NM_' in ID:      # NC_ is genomic data\n",
    "        counter+=1\n",
    "        fetch = Entrez.efetch(db='nucleotide',\n",
    "                             id=ID,\n",
    "                             rettype='fasta',\n",
    "                             retmode='text')\n",
    "        readFetch = fetch.read()\n",
    "        fetchList.append(readFetch)\n",
    "\n",
    "for files in fetchList:\n",
    "    with open('HBB.fasta', 'a+') as savedFile:\n",
    "        savedFile.write(files)"
   ]
  },
  {
   "cell_type": "code",
   "execution_count": 17,
   "metadata": {},
   "outputs": [],
   "source": [
    "## The same data but downloaded from Genbank. Genbank has more information of the same data than a .fasta has.\n",
    "record = Entrez.read(Entrez.esearch(db='nucleotide', \n",
    "                                    term='HBB[Gene Name] AND RefSeq[key]',\n",
    "                                    retmax=2000,\n",
    "                                    idtype='acc')) # eye color gene\n",
    "\n",
    "fetchList=[]\n",
    "counter = 0\n",
    "for ID in record['IdList']:\n",
    "    if 'NM_' in ID:      # NC_ is genomic data\n",
    "        counter+=1\n",
    "        fetch = Entrez.efetch(db='nucleotide',\n",
    "                             id=ID,\n",
    "                             rettype='gb',    ########## change here from .fasta to .gb\n",
    "                             retmode='text')\n",
    "        readFetch = fetch.read()\n",
    "        fetchList.append(readFetch)\n",
    "\n",
    "for files in fetchList:\n",
    "    with open('HBB.gb', 'a+') as savedFile:         ########## change here from .fasta to .gb\n",
    "        savedFile.write(files)"
   ]
  },
  {
   "cell_type": "code",
   "execution_count": null,
   "metadata": {},
   "outputs": [],
   "source": []
  },
  {
   "cell_type": "code",
   "execution_count": null,
   "metadata": {},
   "outputs": [],
   "source": []
  },
  {
   "cell_type": "code",
   "execution_count": null,
   "metadata": {},
   "outputs": [],
   "source": []
  }
 ],
 "metadata": {
  "kernelspec": {
   "display_name": "Python 3",
   "language": "python",
   "name": "python3"
  },
  "language_info": {
   "codemirror_mode": {
    "name": "ipython",
    "version": 3
   },
   "file_extension": ".py",
   "mimetype": "text/x-python",
   "name": "python",
   "nbconvert_exporter": "python",
   "pygments_lexer": "ipython3",
   "version": "3.8.5"
  }
 },
 "nbformat": 4,
 "nbformat_minor": 4
}
